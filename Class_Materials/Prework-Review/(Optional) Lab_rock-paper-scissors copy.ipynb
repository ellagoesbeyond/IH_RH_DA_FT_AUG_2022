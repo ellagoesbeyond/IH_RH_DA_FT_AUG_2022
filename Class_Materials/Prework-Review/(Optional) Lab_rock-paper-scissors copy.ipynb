{
 "cells": [
  {
   "cell_type": "markdown",
   "metadata": {},
   "source": [
    "<img src=\"https://bit.ly/2VnXWr2\" width=\"100\" align=\"left\">"
   ]
  },
  {
   "cell_type": "markdown",
   "metadata": {},
   "source": [
    "# Rock, Paper & Scissors\n",
    "\n",
    "Let's play the famous game against our computer. You can check the rules [here](https://en.wikipedia.org/wiki/Rock%E2%80%93paper%E2%80%93scissors). \n",
    "\n",
    "## Task\n",
    "Create a program that imitates the playability of the well known game of rock, paper, scissors. Follow the guidelines provided.\n",
    "\n",
    "## Tools\n",
    "1. Loop: **for/while**\n",
    "2. Functions: **input(), print()...**\n",
    "3. Conditional statements: **if, elif, else**\n",
    "4. Definition of functions. Modular programming\n",
    "5. Import modules\n",
    "\n",
    "**To solve this challenge, the use of functions is recommended.**\n",
    "\n",
    "#### 1. Import the choice function of the random module."
   ]
  },
  {
   "cell_type": "code",
   "execution_count": 300,
   "metadata": {},
   "outputs": [],
   "source": [
    "from random import choice as ch\n",
    "import math"
   ]
  },
  {
   "cell_type": "markdown",
   "metadata": {},
   "source": [
    "#### 2. Create a list that includes the 3 possible gesture options of the game: 'rock', 'paper' or 'scissors'. Store the list in a variable called `gestures`."
   ]
  },
  {
   "cell_type": "code",
   "execution_count": 282,
   "metadata": {},
   "outputs": [],
   "source": [
    "gestures =[\"rock\",\"paper\",\"scissors\"]"
   ]
  },
  {
   "cell_type": "markdown",
   "metadata": {},
   "source": [
    "#### 3. Create a variable called `n_rounds` to store the maximum number of rounds to play in a game. \n",
    "Remember that the number of rounds must be odd: 1, 3, 5, ..."
   ]
  },
  {
   "cell_type": "code",
   "execution_count": 242,
   "metadata": {},
   "outputs": [],
   "source": [
    "#def n_rounds():\n",
    "  #  max_rounds =(int(input('How many rounds do you wanna play?')))\n",
    "  #  if max_rounds%2==0:\n",
    "   #     # while max_rounds is not odd try loop again \n",
    "    #    print(\"Please choose a odd number of rounds, because you'll be playing a game \"\"Best out of.\"\"\")\n",
    "     #   max_rounds =(int(input('How many rounds do you wanna play?')))\n",
    "      #  while True: \n",
    "       #     if max_rounds%2!=0:\n",
    "        #        return (\"You choosed to play best out of \", max_rounds ,\" rounds!\")\n",
    "    #else:\n",
    "      #  print (\"You choosed to play best out of \"+max_rounds+\" rounds!\")\n",
    "       # return max_rounds\n",
    "\n"
   ]
  },
  {
   "cell_type": "code",
   "execution_count": 247,
   "metadata": {},
   "outputs": [],
   "source": [
    "def n_rounds():\n",
    "    max_rounds =(int(input(\"How many rounds do you wanna play?\")))\n",
    "    while max_rounds%2==0:\n",
    "        # while max_rounds is not odd try loop again\n",
    "        print(\"Please choose a odd number of rounds, because you’ll be playing a game Best out of.\")\n",
    "        return n_rounds()\n",
    "    else:\n",
    "        print(\"You chose to play best out of\" , max_rounds ,\"rounds!\")\n",
    "        return max_rounds"
   ]
  },
  {
   "cell_type": "code",
   "execution_count": 248,
   "metadata": {},
   "outputs": [
    {
     "name": "stdout",
     "output_type": "stream",
     "text": [
      "How many rounds do you wanna play?6\n",
      "Please choose a odd number of rounds, because you’ll be playing a game Best out of.\n",
      "How many rounds do you wanna play?6\n",
      "Please choose a odd number of rounds, because you’ll be playing a game Best out of.\n",
      "How many rounds do you wanna play?5\n",
      "You chose to play best out of 5 rounds!\n"
     ]
    },
    {
     "data": {
      "text/plain": [
       "5"
      ]
     },
     "execution_count": 248,
     "metadata": {},
     "output_type": "execute_result"
    }
   ],
   "source": [
    "n_rounds()\n"
   ]
  },
  {
   "cell_type": "markdown",
   "metadata": {},
   "source": [
    "###### 4. Create a variable called `rounds_to_win` to store the number of rounds that a player must win to win the game.\n",
    "**Hint**: the value stored in `rounds_to_win` depends on the value of `n_rounds`. "
   ]
  },
  {
   "cell_type": "code",
   "execution_count": 301,
   "metadata": {},
   "outputs": [
    {
     "name": "stdout",
     "output_type": "stream",
     "text": [
      "How many rounds do you wanna play?5\n",
      "You chose to play best out of 5 rounds!\n"
     ]
    },
    {
     "data": {
      "text/plain": [
       "3"
      ]
     },
     "execution_count": 301,
     "metadata": {},
     "output_type": "execute_result"
    }
   ],
   "source": [
    "def rounds_to_win():\n",
    "    return (math.ceil(n_rounds()/2))\n",
    "\n",
    "rounds_to_win()"
   ]
  },
  {
   "cell_type": "markdown",
   "metadata": {},
   "source": [
    "#### 5. Create two variables to store the number of rounds that the computer and the player have won. Call these variables `cpu_score` and `player_score`."
   ]
  },
  {
   "cell_type": "code",
   "execution_count": 5,
   "metadata": {},
   "outputs": [],
   "source": [
    "cpu_score=0\n",
    "player_score=0"
   ]
  },
  {
   "cell_type": "markdown",
   "metadata": {},
   "source": [
    "#### 6. Define a function that randomly returns one of the 3 gesture options.\n",
    "You will use this function to simulate the gesture choice of the computer. "
   ]
  },
  {
   "cell_type": "code",
   "execution_count": 278,
   "metadata": {},
   "outputs": [
    {
     "data": {
      "text/plain": [
       "'rock'"
      ]
     },
     "execution_count": 278,
     "metadata": {},
     "output_type": "execute_result"
    }
   ],
   "source": [
    "def cpu_choice():\n",
    "     return ch(gestures)\n",
    "cpu_choice()"
   ]
  },
  {
   "cell_type": "markdown",
   "metadata": {},
   "source": [
    "#### 7. Define a function that asks the player which is the gesture he or she wants to show: 'rock', 'paper' or 'scissors'.\n",
    "The player should only be allowed to choose one of the 3 gesture options. If the player's choice is not rock, paper or scissors, keep asking until it is."
   ]
  },
  {
   "cell_type": "code",
   "execution_count": 308,
   "metadata": {},
   "outputs": [],
   "source": [
    "def player_choice():  \n",
    "    players_choice = input('Rock, paper, scissors? Please, type your choice.')\n",
    "    players_choice.lower ()\n",
    "    while True:\n",
    "        if players_choice not in gestures:\n",
    "            print (\"input invalid\")\n",
    "            players_choice = input('Rock, paper, scissors? Please, type your choice.')\n",
    "            players_choice.lower ()\n",
    "        else:\n",
    "            break\n",
    "    return players_choice"
   ]
  },
  {
   "cell_type": "code",
   "execution_count": 309,
   "metadata": {},
   "outputs": [
    {
     "name": "stdout",
     "output_type": "stream",
     "text": [
      "Rock, paper, scissors? Please, type your choice.Rock\n",
      "input invalid\n",
      "Rock, paper, scissors? Please, type your choice.rock\n"
     ]
    },
    {
     "data": {
      "text/plain": [
       "'rock'"
      ]
     },
     "execution_count": 309,
     "metadata": {},
     "output_type": "execute_result"
    }
   ],
   "source": [
    "player_choice()  \n",
    "\n"
   ]
  },
  {
   "cell_type": "markdown",
   "metadata": {},
   "source": [
    "#### 8. Define a function that checks who won a round. \n",
    "The function should return 0 if there is a tie, 1 if the computer wins and 2 if the player wins."
   ]
  },
  {
   "cell_type": "code",
   "execution_count": 271,
   "metadata": {},
   "outputs": [],
   "source": [
    "def winner_of_round():\n",
    "    pl= player_choice()\n",
    "    cpu= cpu_choice()\n",
    "    if pl==cpu:\n",
    "        print(\"It's a tie.\")\n",
    "        return 0\n",
    "        \n",
    "    elif pl==\"rock\" and cpu==\"paper\":\n",
    "        print(\"CPU won the round!\")\n",
    "        return 4\n",
    "               \n",
    "    elif pl==\"paper\" and cpu==\"scissors\":\n",
    "        print(\"CPU won the round!\")\n",
    "        return 3\n",
    "                \n",
    "    elif pl==\"rock\" and cpu==\"scissors\":\n",
    "        print(\"You won the round!\")\n",
    "        return 2\n",
    "                \n",
    "    elif pl==\"paper\" and cpu==\"rock\":\n",
    "        print(\"You won the round!\")\n",
    "        return 1\n",
    "    else:  \n",
    "        return"
   ]
  },
  {
   "cell_type": "code",
   "execution_count": 304,
   "metadata": {},
   "outputs": [
    {
     "name": "stdout",
     "output_type": "stream",
     "text": [
      "Stone, paper, scissors, lizard or spock?. Please, type your choice.rock\n",
      "You won the round!\n"
     ]
    },
    {
     "data": {
      "text/plain": [
       "2"
      ]
     },
     "execution_count": 304,
     "metadata": {},
     "output_type": "execute_result"
    }
   ],
   "source": [
    "winner_of_round()\n"
   ]
  },
  {
   "cell_type": "markdown",
   "metadata": {},
   "source": [
    "#### 9. Define a function that prints the choice of the computer, the choice of the player and a message that announces who won the current round. \n",
    "You should also use this function to update the variables that count the number of rounds that the computer and the player have won. The score of the winner increases by one point. If there is a tie, the score does not increase."
   ]
  },
  {
   "cell_type": "code",
   "execution_count": 318,
   "metadata": {},
   "outputs": [],
   "source": [
    "def in_the_game ():\n",
    "    player_score=0\n",
    "    cpu_score=0\n",
    "    if winner_of_round() == 1:\n",
    "        player_score+=1\n",
    "        rounds_to_win+=1\n",
    "        print(\"You won. You choosed Paper and the cpu rock\")\n",
    "    elif winner_of_round() == 2:\n",
    "        player_score+=1\n",
    "        rounds_to_win+=1\n",
    "        print(\"You won. You choosed rock and the cpu scissors\")\n",
    "    elif winner_of_round() == 3:\n",
    "        cpu_score+=1\n",
    "        rounds_to_win+=1\n",
    "        print(\"CPU won. You choosed Paperr and the cpu scissors\")\n",
    "    elif winner_of_round() == 4:\n",
    "        cpu_score+=1\n",
    "        rounds_to_win+=1\n",
    "        print(\"CPU won. You choosed rock and the cpu Paper\")\n",
    "    elif winner_of_round()== 0:\n",
    "        print(\"It's a tie. You both choosed the same gestures.\")\n",
    "    else:\n",
    "        return\n",
    "    \n",
    "    "
   ]
  },
  {
   "cell_type": "code",
   "execution_count": 319,
   "metadata": {},
   "outputs": [
    {
     "name": "stdout",
     "output_type": "stream",
     "text": [
      "Rock, paper, scissors? Please, type your choice.rock\n",
      "You won the round!\n",
      "Rock, paper, scissors? Please, type your choice.paper\n",
      "It's a tie.\n",
      "Rock, paper, scissors? Please, type your choice.scissors\n",
      "Rock, paper, scissors? Please, type your choice.scissor\n",
      "input invalid\n",
      "Rock, paper, scissors? Please, type your choice.scissors\n",
      "Rock, paper, scissors? Please, type your choice.paper\n",
      "It's a tie.\n",
      "It's a tie. You both choosed the same gestures.\n"
     ]
    }
   ],
   "source": [
    "in_the_game()"
   ]
  },
  {
   "cell_type": "markdown",
   "metadata": {},
   "source": [
    "#### 10. Now it's time to code the execution of the game using the functions and variables you defined above. \n",
    "\n",
    "First, create a loop structure that repeats while no player reaches the minimum score necessary to win and the number of rounds is less than the maximum number of rounds to play in a game.  \n",
    "\n",
    "Inside the loop, use the functions and variables above to create the execution of a round: ask for the player's choice, generate the random choice of the computer, show the round results, update the scores, etc. "
   ]
  },
  {
   "cell_type": "code",
   "execution_count": null,
   "metadata": {},
   "outputs": [],
   "source": [
    "def start_game():\n",
    "    gestures =[\"rock\",\"paper\",\"scissors\"]\n",
    "    while (player_score != rounds_to_win)== True:\n",
    "         if in_the_game()\n",
    "        \n",
    "    else:\n",
    "        \n",
    "    \n",
    "            \n",
    "        \n",
    "        \n",
    "     \n",
    "    "
   ]
  },
  {
   "cell_type": "markdown",
   "metadata": {},
   "source": [
    "#### 11. Print the winner of the game based on who won more rounds.\n",
    "Remember that the game might be tied. "
   ]
  },
  {
   "cell_type": "code",
   "execution_count": null,
   "metadata": {},
   "outputs": [],
   "source": []
  },
  {
   "cell_type": "markdown",
   "metadata": {},
   "source": [
    "# Bonus: Rock, Paper, Scissors, Lizard & Spock\n",
    "![](images/rpsls.jpg)\n",
    "\n",
    "In this challenge, you need to improve the previous game by adding two new options. To know more about the rules of the improved version of rock, paper, scissors, check this [link](http://www.samkass.com/theories/RPSSL.html). \n",
    "\n",
    "In addition, you will also need to improve how the game interacts with the player: the number of rounds to play, which must be an odd number, will be requested to the user until a valid number is entered. Define a new function to make that request.\n",
    "\n",
    "**Hint**: Try to reuse the code that you already coded in the previous challenge. If your code is efficient, this bonus will only consist of simple modifications to the original game."
   ]
  },
  {
   "cell_type": "code",
   "execution_count": null,
   "metadata": {},
   "outputs": [],
   "source": []
  }
 ],
 "metadata": {
  "kernelspec": {
   "display_name": "Python 3 (ipykernel)",
   "language": "python",
   "name": "python3"
  },
  "language_info": {
   "codemirror_mode": {
    "name": "ipython",
    "version": 3
   },
   "file_extension": ".py",
   "mimetype": "text/x-python",
   "name": "python",
   "nbconvert_exporter": "python",
   "pygments_lexer": "ipython3",
   "version": "3.9.12"
  },
  "toc": {
   "base_numbering": 1,
   "nav_menu": {},
   "number_sections": true,
   "sideBar": true,
   "skip_h1_title": false,
   "title_cell": "Table of Contents",
   "title_sidebar": "Contents",
   "toc_cell": false,
   "toc_position": {},
   "toc_section_display": true,
   "toc_window_display": false
  }
 },
 "nbformat": 4,
 "nbformat_minor": 2
}
